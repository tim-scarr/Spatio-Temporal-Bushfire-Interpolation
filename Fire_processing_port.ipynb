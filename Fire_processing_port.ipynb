{
 "cells": [
  {
   "cell_type": "code",
   "execution_count": null,
   "id": "e9b7dd11",
   "metadata": {},
   "outputs": [],
   "source": [
    "import netCDF4 as nc\n",
    "import numpy as np\n",
    "import matplotlib.pyplot as plt\n",
    "import xarray as xr\n",
    "import geopandas as gpd\n",
    "from pyproj import CRS, Transformer\n",
    "import pandas as pd"
   ]
  },
  {
   "cell_type": "code",
   "execution_count": null,
   "id": "82fc638b",
   "metadata": {},
   "outputs": [],
   "source": [
    "#Opening and Concatenating all files\n",
    "\n",
    "u_wind1 = xr.open_dataset('uas_AUS-11_ERA5_historical_hres_BOM_BARRA-R2_v1_1hr_201910-201910.nc.nc4')\n",
    "\n",
    "u_wind2 = xr.open_dataset('uas_AUS-11_ERA5_historical_hres_BOM_BARRA-R2_v1_1hr_201911-201911.nc.nc4')\n",
    "\n",
    "u_wind  =  xr.concat([u_wind1, u_wind2], dim='time')\n",
    "\n",
    "#u_wind = u_wind.sel(time=u_wind['time'][::4])\n",
    "\n",
    "v_wind1 = xr.open_dataset('vas_AUS-11_ERA5_historical_hres_BOM_BARRA-R2_v1_1hr_201910-201910.nc.nc4')\n",
    "\n",
    "v_wind2 = xr.open_dataset('vas_AUS-11_ERA5_historical_hres_BOM_BARRA-R2_v1_1hr_201911-201911.nc.nc4')\n",
    "\n",
    "v_wind  =  xr.concat([v_wind1, v_wind2], dim='time')\n",
    "\n",
    "#v_wind = v_wind.sel(time=v_wind['time'][::4])\n",
    "\n",
    "\n",
    "\n",
    "\n",
    "rh1 = xr.open_dataset('hurs_AUS-11_ERA5_historical_hres_BOM_BARRA-R2_v1_1hr_201910-201910.nc.nc4')\n",
    "\n",
    "rh2 = xr.open_dataset('hurs_AUS-11_ERA5_historical_hres_BOM_BARRA-R2_v1_1hr_201911-201911.nc.nc4')\n",
    "\n",
    "rh  =  xr.concat([rh1, rh2], dim='time')\n",
    "\n",
    "#rh = rh.sel(time=rh['time'][::4])\n",
    "\n",
    "sm1 = xr.open_dataset('mrsos_AUS-11_ERA5_historical_hres_BOM_BARRA-R2_v1_1hr_201910-201910.nc.nc4')\n",
    "\n",
    "sm2 = xr.open_dataset('mrsos_AUS-11_ERA5_historical_hres_BOM_BARRA-R2_v1_1hr_201911-201911.nc.nc4')\n",
    "\n",
    "sm  =  xr.concat([sm1, sm2], dim='time')\n",
    "\n",
    "#sm = sm.sel(time=sm['time'][::4])\n",
    "\n",
    "\n",
    "st1 = xr.open_dataset('tas_AUS-11_ERA5_historical_hres_BOM_BARRA-R2_v1_1hr_201910-201910.nc.nc4')\n",
    "\n",
    "st2 = xr.open_dataset('tas_AUS-11_ERA5_historical_hres_BOM_BARRA-R2_v1_1hr_201911-201911.nc.nc4')\n",
    "\n",
    "st  =  xr.concat([st1, st2], dim='time')\n",
    "\n",
    "#st = st.sel(time=st['time'][::4])\n"
   ]
  },
  {
   "cell_type": "code",
   "execution_count": null,
   "id": "8a28ce43",
   "metadata": {},
   "outputs": [],
   "source": [
    "#Creating Wind Speed and Direction\n",
    "\n",
    "u = u_wind['uas']\n",
    "v = v_wind['vas']\n",
    "\n",
    "# Calculate wind speed\n",
    "wind_speed = np.sqrt(u**2 + v**2)\n",
    "\n",
    "# Calculate wind direction in radians\n",
    "wind_direction_rad = np.arctan2(u, v)\n",
    "\n",
    "# Convert wind direction to degrees\n",
    "wind_direction_deg = np.degrees(wind_direction_rad)\n",
    "\n",
    "# Normalize direction to [0, 360] degrees\n",
    "wind_direction_deg = (wind_direction_deg + 360) % 360"
   ]
  },
  {
   "cell_type": "code",
   "execution_count": null,
   "id": "d954492d",
   "metadata": {},
   "outputs": [],
   "source": [
    "# Load the shapefile\n",
    "gdf = gpd.read_file('Grid_0_150.shp')\n",
    "\n"
   ]
  },
  {
   "cell_type": "code",
   "execution_count": null,
   "id": "845bc7ac",
   "metadata": {},
   "outputs": [],
   "source": [
    "ft_layer = gpd.read_file('Fuel Layer.shp')"
   ]
  },
  {
   "cell_type": "code",
   "execution_count": null,
   "id": "b61a512e",
   "metadata": {},
   "outputs": [],
   "source": [
    "# Define the coordinate reference systems\n",
    "crs_epsg_3857 = CRS(\"EPSG:3857\")\n",
    "crs_epsg_4326 = CRS(\"EPSG:4326\")\n",
    "\n",
    "# Create a transformer object for EPSG:3857 to EPSG:4326\n",
    "transformer = Transformer.from_crs(crs_epsg_3857, crs_epsg_4326, always_xy=True)"
   ]
  },
  {
   "cell_type": "code",
   "execution_count": null,
   "id": "47f9ff0c",
   "metadata": {},
   "outputs": [],
   "source": [
    "# Extract coordinates\n",
    "gdf['x'] = gdf.geometry.x\n",
    "gdf['y'] = gdf.geometry.y\n",
    "\n",
    "gdf['lon'], gdf['lat'] = transformer.transform(gdf['x'].values, gdf['y'].values)\n",
    "\n",
    "coords = gdf[['lon', 'lat']]\n",
    "time_index = u_wind['time'].to_index()\n",
    "\n",
    "start_date = pd.to_datetime(time_index[0])\n",
    "end_date = start_date + pd.Timedelta(days=18)\n",
    "limited_time_index = time_index[(time_index >= start_date) & (time_index < end_date)]"
   ]
  },
  {
   "cell_type": "code",
   "execution_count": null,
   "id": "b4f29fc6",
   "metadata": {},
   "outputs": [],
   "source": [
    "limited_time_index"
   ]
  },
  {
   "cell_type": "code",
   "execution_count": null,
   "id": "0b8adf3b",
   "metadata": {},
   "outputs": [],
   "source": [
    "# Create the DataArray and Dataset with the limited time index\n",
    "data = xr.DataArray(\n",
    "    np.zeros((len(limited_time_index), len(gdf))),\n",
    "    dims=['time', 'points'],\n",
    "    coords={'time': limited_time_index, 'points': np.arange(len(gdf))}\n",
    ")\n",
    "\n",
    "ds = xr.Dataset(\n",
    "    {\n",
    "        'data': data\n",
    "    },\n",
    "    coords={\n",
    "        'time': limited_time_index,\n",
    "        'points': np.arange(len(gdf)),\n",
    "        'x': ('points', gdf['lon']),\n",
    "        'y': ('points', gdf['lat']), \n",
    "        'Is Fire': ('points', gdf['Is Fire']),\n",
    "        'Aspect': ('points', gdf['Aspect1']),\n",
    "        'Slope': ('points', gdf['Slope1']),\n",
    "        'Fuel Type': ('points', ft_layer['Fuel Type1']),\n",
    "        'TSF': ('points', gdf['Label'])\n",
    "    }\n",
    ")\n",
    "\n",
    "subset_ds = ds\n",
    "\n",
    "# Convert to DataFrame and reset index\n",
    "df = subset_ds.to_dataframe().reset_index()\n",
    "\n",
    "# Format the 'time' column\n",
    "df['time'] = df['time'].dt.strftime('%Y-%m-%dT%H:%M:%S.000000000')\n",
    "\n",
    "\n"
   ]
  },
  {
   "cell_type": "code",
   "execution_count": null,
   "id": "72d98a23",
   "metadata": {},
   "outputs": [],
   "source": [
    "df['Is Fire'] = df['Is Fire'].fillna(0)\n"
   ]
  },
  {
   "cell_type": "code",
   "execution_count": null,
   "id": "fbae690e",
   "metadata": {},
   "outputs": [],
   "source": []
  },
  {
   "cell_type": "code",
   "execution_count": null,
   "id": "c9692a3d",
   "metadata": {},
   "outputs": [],
   "source": []
  },
  {
   "cell_type": "code",
   "execution_count": null,
   "id": "ac35837c",
   "metadata": {},
   "outputs": [],
   "source": [
    "df['TSF'] = df['TSF'].apply(lambda x: '>10' if x == '2015-2016 Prescribed Burn' else '<10')\n"
   ]
  },
  {
   "cell_type": "code",
   "execution_count": null,
   "id": "82e3ac48",
   "metadata": {},
   "outputs": [],
   "source": [
    "# Function to get the wind speed for a given time and location\n",
    "def get_weather_at_location_and_time(var, time, lon, lat):\n",
    "    # Select the wind speed value for the given time, longitude, and latitude\n",
    "    #print(\"time\", time)\n",
    "    return var.sel(time=time, lon=lon, lat=lat, method='nearest').item()\n",
    "\n",
    "\n",
    "\n",
    "df['wspd'] = df.apply(lambda row: get_weather_at_location_and_time(wind_speed, row['time'], row['x'], row['y']), axis=1)\n",
    "print(\"done\")\n",
    "df['wind_direction_deg'] = df.apply(lambda row: get_weather_at_location_and_time(wind_direction_deg, row['time'], row['x'], row['y']), axis=1)\n",
    "print(\"done\")\n",
    "df['rh'] = df.apply(lambda row: get_weather_at_location_and_time(rh['hurs'], row['time'], row['x'], row['y']), axis=1)\n",
    "print(\"done\")\n",
    "\n",
    "df['sm'] = df.apply(lambda row: get_weather_at_location_and_time(sm['mrsos'], row['time'], row['x'], row['y']), axis=1)\n",
    "print(\"done\")\n",
    "\n",
    "df['st'] = df.apply(lambda row: get_weather_at_location_and_time(st['tas'], row['time'], row['x'], row['y']), axis=1)\n",
    "print(\"done\")\n"
   ]
  },
  {
   "cell_type": "code",
   "execution_count": null,
   "id": "3a48c498",
   "metadata": {},
   "outputs": [],
   "source": [
    "gdf1 = gpd.read_file('Grid_1_150.shp')\n",
    "gdf2 = gpd.read_file('Grid_2 150.shp')\n",
    "gdf3 = gpd.read_file('Grid_3_150.shp')\n",
    "gdf4 = gpd.read_file('Grid_4_150.shp')\n",
    "gdf5 = gpd.read_file('Grid_5_150.shp')\n",
    "gdf6 = gpd.read_file('Grid_6_150.shp')\n",
    "gdf7 = gpd.read_file('Grid_7_150.shp')\n",
    "gdf8 = gpd.read_file('Grid_8_150.shp')\n",
    "gdf9 = gpd.read_file('Grid_9_150.shp')\n",
    "\n"
   ]
  },
  {
   "cell_type": "code",
   "execution_count": null,
   "id": "2748b91d",
   "metadata": {},
   "outputs": [],
   "source": [
    "#Timestep 0\n",
    "\n",
    "target_time = pd.to_datetime('2019-10-26 05:51:24') \n",
    "df['time'] = pd.to_datetime(df['time'])\n",
    "\n",
    "# Step 2: Find closest timestep in df to target_time\n",
    "closest_timestep = df.loc[df['time'].sub(target_time).abs().idxmin(), 'time']\n",
    "\n",
    "# Step 3: Replace target_time with closest_timestep in the DataFrame\n",
    "df.loc[df['time'] == target_time, 'time'] = closest_timestep\n",
    "\n",
    "closest_timestep\n"
   ]
  },
  {
   "cell_type": "code",
   "execution_count": null,
   "id": "59f16c02",
   "metadata": {},
   "outputs": [],
   "source": [
    "threshold_time = closest_timestep\n",
    "\n",
    "# Filter rows where 'time' is greater than or equal to threshold_time\n",
    "df = df[df['time'] >= threshold_time]"
   ]
  },
  {
   "cell_type": "code",
   "execution_count": null,
   "id": "14d1f2e6",
   "metadata": {},
   "outputs": [],
   "source": [
    "#Timestep 1\n",
    "\n",
    "target_time = pd.to_datetime('2019-10-28 13:00:00') \n",
    "df['time'] = pd.to_datetime(df['time'])\n",
    "\n",
    "# Step 2: Find closest timestep in df to target_time\n",
    "closest_timestep = df.loc[df['time'].sub(target_time).abs().idxmin(), 'time']\n",
    "\n",
    "# Step 3: Replace target_time with closest_timestep in the DataFrame\n",
    "df.loc[df['time'] == target_time, 'time'] = closest_timestep\n",
    "\n",
    "df.loc[df['time'] == closest_timestep, 'Is Fire'] = gdf1['Is Fire'].values\n",
    "\n",
    "\n",
    "print(closest_timestep)"
   ]
  },
  {
   "cell_type": "code",
   "execution_count": null,
   "id": "54c19ec8",
   "metadata": {},
   "outputs": [],
   "source": [
    "#Timestep 2\n",
    "\n",
    "target_time = pd.to_datetime('2019-11-01 13:00:00') \n",
    "\n",
    "df['time'] = pd.to_datetime(df['time'])\n",
    "\n",
    "# Step 2: Find closest timestep in df to target_time\n",
    "closest_timestep = df.loc[df['time'].sub(target_time).abs().idxmin(), 'time']\n",
    "\n",
    "# Step 3: Replace target_time with closest_timestep in the DataFrame\n",
    "df.loc[df['time'] == target_time, 'time'] = closest_timestep\n",
    "\n",
    "df.loc[df['time'] == closest_timestep, 'Is Fire'] = gdf2['Is Fire'].values\n",
    "\n",
    "\n",
    "print(closest_timestep)"
   ]
  },
  {
   "cell_type": "code",
   "execution_count": null,
   "id": "84940c79",
   "metadata": {},
   "outputs": [],
   "source": [
    "#Timestep 3\n",
    "\n",
    "target_time = pd.to_datetime('2019-11-02 07:00:00')\n",
    "\n",
    "df['time'] = pd.to_datetime(df['time'])\n",
    "\n",
    "# Step 2: Find closest timestep in df to target_time\n",
    "closest_timestep = df.loc[df['time'].sub(target_time).abs().idxmin(), 'time']\n",
    "\n",
    "# Step 3: Replace target_time with closest_timestep in the DataFrame\n",
    "df.loc[df['time'] == target_time, 'time'] = closest_timestep\n",
    "\n",
    "df.loc[df['time'] == closest_timestep, 'Is Fire'] = gdf3['Is Fire'].values\n",
    "\n",
    "\n",
    "print(closest_timestep)"
   ]
  },
  {
   "cell_type": "code",
   "execution_count": null,
   "id": "4a2f3c3a",
   "metadata": {},
   "outputs": [],
   "source": [
    "#Timestep 4\n",
    "\n",
    "target_time = pd.to_datetime('2019-11-04 04:00:00')  \n",
    "\n",
    "df['time'] = pd.to_datetime(df['time'])\n",
    "\n",
    "# Step 2: Find closest timestep in df to target_time\n",
    "closest_timestep = df.loc[df['time'].sub(target_time).abs().idxmin(), 'time']\n",
    "\n",
    "# Step 3: Replace target_time with closest_timestep in the DataFrame\n",
    "df.loc[df['time'] == target_time, 'time'] = closest_timestep\n",
    "\n",
    "df.loc[df['time'] == closest_timestep, 'Is Fire'] = gdf4['Is Fire'].values\n",
    "\n",
    "\n",
    "print(closest_timestep)"
   ]
  },
  {
   "cell_type": "code",
   "execution_count": null,
   "id": "693e8617",
   "metadata": {},
   "outputs": [],
   "source": [
    "#Timestep 5\n",
    "\n",
    "target_time = pd.to_datetime('2019-11-06 20:00:00') \n",
    "df['time'] = pd.to_datetime(df['time'])\n",
    "\n",
    "# Step 2: Find closest timestep in df to target_time\n",
    "closest_timestep = df.loc[df['time'].sub(target_time).abs().idxmin(), 'time']\n",
    "\n",
    "# Step 3: Replace target_time with closest_timestep in the DataFrame\n",
    "df.loc[df['time'] == target_time, 'time'] = closest_timestep\n",
    "\n",
    "df.loc[df['time'] == closest_timestep, 'Is Fire'] = gdf5['Is Fire'].values\n",
    "\n",
    "\n",
    "print(closest_timestep)"
   ]
  },
  {
   "cell_type": "code",
   "execution_count": null,
   "id": "53c7c88f",
   "metadata": {},
   "outputs": [],
   "source": [
    "#Timestep 6\n",
    "\n",
    "target_time = pd.to_datetime('2019-11-07 03:30:00') \n",
    "\n",
    "df['time'] = pd.to_datetime(df['time'])\n",
    "\n",
    "# Step 2: Find closest timestep in df to target_time\n",
    "closest_timestep = df.loc[df['time'].sub(target_time).abs().idxmin(), 'time']\n",
    "\n",
    "# Step 3: Replace target_time with closest_timestep in the DataFrame\n",
    "df.loc[df['time'] == target_time, 'time'] = closest_timestep\n",
    "\n",
    "df.loc[df['time'] == closest_timestep, 'Is Fire'] = gdf6['Is Fire'].values\n",
    "\n",
    "\n",
    "print(closest_timestep)"
   ]
  },
  {
   "cell_type": "code",
   "execution_count": null,
   "id": "a582e185",
   "metadata": {},
   "outputs": [],
   "source": [
    "#Timestep 7\n",
    "\n",
    "target_time = pd.to_datetime('2019-11-07 21:00:00')  \n",
    "df['time'] = pd.to_datetime(df['time'])\n",
    "\n",
    "# Step 2: Find closest timestep in df to target_time\n",
    "closest_timestep = df.loc[df['time'].sub(target_time).abs().idxmin(), 'time']\n",
    "\n",
    "# Step 3: Replace target_time with closest_timestep in the DataFrame\n",
    "df.loc[df['time'] == target_time, 'time'] = closest_timestep\n",
    "\n",
    "df.loc[df['time'] == closest_timestep, 'Is Fire'] = gdf7['Is Fire'].values\n",
    "\n",
    "\n",
    "print(closest_timestep)"
   ]
  },
  {
   "cell_type": "code",
   "execution_count": null,
   "id": "ea01a026",
   "metadata": {},
   "outputs": [],
   "source": [
    "#Timestep 8\n",
    "\n",
    "target_time = pd.to_datetime('2019-11-08 02:00:00') \n",
    "\n",
    "df['time'] = pd.to_datetime(df['time'])\n",
    "\n",
    "# Step 2: Find closest timestep in df to target_time\n",
    "closest_timestep = df.loc[df['time'].sub(target_time).abs().idxmin(), 'time']\n",
    "\n",
    "# Step 3: Replace target_time with closest_timestep in the DataFrame\n",
    "df.loc[df['time'] == target_time, 'time'] = closest_timestep\n",
    "\n",
    "df.loc[df['time'] == closest_timestep, 'Is Fire'] = gdf8['Is Fire'].values\n",
    "\n",
    "\n",
    "print(closest_timestep)"
   ]
  },
  {
   "cell_type": "code",
   "execution_count": null,
   "id": "1e7e8583",
   "metadata": {},
   "outputs": [],
   "source": [
    "#Timestep 9\n",
    "\n",
    "target_time = pd.to_datetime('2019-11-08 15:00:00')  \n",
    "\n",
    "df['time'] = pd.to_datetime(df['time'])\n",
    "\n",
    "# Step 2: Find closest timestep in df to target_time\n",
    "closest_timestep = df.loc[df['time'].sub(target_time).abs().idxmin(), 'time']\n",
    "\n",
    "# Step 3: Replace target_time with closest_timestep in the DataFrame\n",
    "df.loc[df['time'] == target_time, 'time'] = closest_timestep\n",
    "\n",
    "df.loc[df['time'] == closest_timestep, 'Is Fire'] = gdf9['Is Fire'].values\n",
    "\n",
    "\n",
    "print(closest_timestep)"
   ]
  },
  {
   "cell_type": "code",
   "execution_count": null,
   "id": "d080eb6e",
   "metadata": {},
   "outputs": [],
   "source": [
    "'''\n",
    "target_timesteps = ('2019-10-26 06:00:00','2019-10-28 13:00:00', '2019-11-01 13:00:00','2019-11-02 07:00:00',\n",
    "                   '2019-11-04 04:00:00','2019-11-06 20:00:00', '2019-11-07 03:30:00', \n",
    "                   '2019-11-07 21:00:00','2019-11-08 02:00:00', '2019-11-08 15:00:00')\n",
    "                   \n",
    "'''"
   ]
  },
  {
   "cell_type": "code",
   "execution_count": null,
   "id": "3c9ca366",
   "metadata": {},
   "outputs": [],
   "source": [
    "#df = df[df['time'].isin(target_timesteps)]\n"
   ]
  },
  {
   "cell_type": "code",
   "execution_count": null,
   "id": "03ba3fe8",
   "metadata": {},
   "outputs": [],
   "source": [
    "df['time'].unique()"
   ]
  },
  {
   "cell_type": "code",
   "execution_count": null,
   "id": "d70fcd26",
   "metadata": {},
   "outputs": [],
   "source": []
  },
  {
   "cell_type": "code",
   "execution_count": null,
   "id": "000a05ff",
   "metadata": {},
   "outputs": [],
   "source": [
    "# Step 1: Convert 'time' column to datetime format if it's not already\n",
    "df['time'] = pd.to_datetime(df['time'])\n",
    "\n",
    "# Step 2: Convert 'time' column to desired string format\n",
    "df['time'] = df['time'].dt.strftime('%Y-%m-%d %H:%M:%S')"
   ]
  },
  {
   "cell_type": "code",
   "execution_count": null,
   "id": "63a28ec3",
   "metadata": {},
   "outputs": [],
   "source": [
    "df"
   ]
  },
  {
   "cell_type": "code",
   "execution_count": null,
   "id": "1613e57e",
   "metadata": {},
   "outputs": [],
   "source": [
    "df.to_csv(\"Port_Fire_full.csv\", index=False)  # Set index=False to exclude row numbers\n"
   ]
  },
  {
   "cell_type": "code",
   "execution_count": null,
   "id": "8876c772",
   "metadata": {},
   "outputs": [],
   "source": [
    "print(\"all good!\")"
   ]
  }
 ],
 "metadata": {
  "kernelspec": {
   "display_name": "Python 3 (ipykernel)",
   "language": "python",
   "name": "python3"
  },
  "language_info": {
   "codemirror_mode": {
    "name": "ipython",
    "version": 3
   },
   "file_extension": ".py",
   "mimetype": "text/x-python",
   "name": "python",
   "nbconvert_exporter": "python",
   "pygments_lexer": "ipython3",
   "version": "3.10.13"
  }
 },
 "nbformat": 4,
 "nbformat_minor": 5
}
