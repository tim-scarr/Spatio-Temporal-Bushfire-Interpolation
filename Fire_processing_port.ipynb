{
 "cells": [
  {
   "cell_type": "code",
   "execution_count": 43,
   "id": "e9b7dd11",
   "metadata": {},
   "outputs": [],
   "source": [
    "import netCDF4 as nc\n",
    "import numpy as np\n",
    "import matplotlib.pyplot as plt\n",
    "import xarray as xr\n",
    "import geopandas as gpd\n",
    "from pyproj import CRS, Transformer\n",
    "import pandas as pd"
   ]
  },
  {
   "cell_type": "code",
   "execution_count": 44,
   "id": "82fc638b",
   "metadata": {},
   "outputs": [
    {
     "name": "stderr",
     "output_type": "stream",
     "text": [
      "C:\\Users\\timsc\\anaconda3\\lib\\site-packages\\xarray\\core\\concat.py:527: FutureWarning: unique with argument that is not not a Series, Index, ExtensionArray, or np.ndarray is deprecated and will raise in a future version.\n",
      "  common_dims = tuple(pd.unique([d for v in vars for d in v.dims]))\n",
      "C:\\Users\\timsc\\anaconda3\\lib\\site-packages\\xarray\\core\\concat.py:527: FutureWarning: unique with argument that is not not a Series, Index, ExtensionArray, or np.ndarray is deprecated and will raise in a future version.\n",
      "  common_dims = tuple(pd.unique([d for v in vars for d in v.dims]))\n",
      "C:\\Users\\timsc\\anaconda3\\lib\\site-packages\\xarray\\core\\concat.py:527: FutureWarning: unique with argument that is not not a Series, Index, ExtensionArray, or np.ndarray is deprecated and will raise in a future version.\n",
      "  common_dims = tuple(pd.unique([d for v in vars for d in v.dims]))\n",
      "C:\\Users\\timsc\\anaconda3\\lib\\site-packages\\xarray\\core\\concat.py:527: FutureWarning: unique with argument that is not not a Series, Index, ExtensionArray, or np.ndarray is deprecated and will raise in a future version.\n",
      "  common_dims = tuple(pd.unique([d for v in vars for d in v.dims]))\n",
      "C:\\Users\\timsc\\anaconda3\\lib\\site-packages\\xarray\\core\\concat.py:527: FutureWarning: unique with argument that is not not a Series, Index, ExtensionArray, or np.ndarray is deprecated and will raise in a future version.\n",
      "  common_dims = tuple(pd.unique([d for v in vars for d in v.dims]))\n"
     ]
    }
   ],
   "source": [
    "#Opening and Concatenating all files\n",
    "\n",
    "u_wind1 = xr.open_dataset('uas_AUS-11_ERA5_historical_hres_BOM_BARRA-R2_v1_1hr_201910-201910.nc.nc4')\n",
    "\n",
    "u_wind2 = xr.open_dataset('uas_AUS-11_ERA5_historical_hres_BOM_BARRA-R2_v1_1hr_201911-201911.nc.nc4')\n",
    "\n",
    "u_wind  =  xr.concat([u_wind1, u_wind2], dim='time')\n",
    "\n",
    "#u_wind = u_wind.sel(time=u_wind['time'][::4])\n",
    "\n",
    "v_wind1 = xr.open_dataset('vas_AUS-11_ERA5_historical_hres_BOM_BARRA-R2_v1_1hr_201910-201910.nc.nc4')\n",
    "\n",
    "v_wind2 = xr.open_dataset('vas_AUS-11_ERA5_historical_hres_BOM_BARRA-R2_v1_1hr_201911-201911.nc.nc4')\n",
    "\n",
    "v_wind  =  xr.concat([v_wind1, v_wind2], dim='time')\n",
    "\n",
    "#v_wind = v_wind.sel(time=v_wind['time'][::4])\n",
    "\n",
    "\n",
    "\n",
    "\n",
    "rh1 = xr.open_dataset('hurs_AUS-11_ERA5_historical_hres_BOM_BARRA-R2_v1_1hr_201910-201910.nc.nc4')\n",
    "\n",
    "rh2 = xr.open_dataset('hurs_AUS-11_ERA5_historical_hres_BOM_BARRA-R2_v1_1hr_201911-201911.nc.nc4')\n",
    "\n",
    "rh  =  xr.concat([rh1, rh2], dim='time')\n",
    "\n",
    "#rh = rh.sel(time=rh['time'][::4])\n",
    "\n",
    "sm1 = xr.open_dataset('mrsos_AUS-11_ERA5_historical_hres_BOM_BARRA-R2_v1_1hr_201910-201910.nc.nc4')\n",
    "\n",
    "sm2 = xr.open_dataset('mrsos_AUS-11_ERA5_historical_hres_BOM_BARRA-R2_v1_1hr_201911-201911.nc.nc4')\n",
    "\n",
    "sm  =  xr.concat([sm1, sm2], dim='time')\n",
    "\n",
    "#sm = sm.sel(time=sm['time'][::4])\n",
    "\n",
    "\n",
    "st1 = xr.open_dataset('tas_AUS-11_ERA5_historical_hres_BOM_BARRA-R2_v1_1hr_201910-201910.nc.nc4')\n",
    "\n",
    "st2 = xr.open_dataset('tas_AUS-11_ERA5_historical_hres_BOM_BARRA-R2_v1_1hr_201911-201911.nc.nc4')\n",
    "\n",
    "st  =  xr.concat([st1, st2], dim='time')\n",
    "\n",
    "#st = st.sel(time=st['time'][::4])\n"
   ]
  },
  {
   "cell_type": "code",
   "execution_count": 45,
   "id": "8a28ce43",
   "metadata": {},
   "outputs": [],
   "source": [
    "#Creating Wind Speed and Direction\n",
    "\n",
    "u = u_wind['uas']\n",
    "v = v_wind['vas']\n",
    "\n",
    "# Calculate wind speed\n",
    "wind_speed = np.sqrt(u**2 + v**2)\n",
    "\n",
    "# Calculate wind direction in radians\n",
    "wind_direction_rad = np.arctan2(u, v)\n",
    "\n",
    "# Convert wind direction to degrees\n",
    "wind_direction_deg = np.degrees(wind_direction_rad)\n",
    "\n",
    "# Normalize direction to [0, 360] degrees\n",
    "wind_direction_deg = (wind_direction_deg + 360) % 360"
   ]
  },
  {
   "cell_type": "code",
   "execution_count": 46,
   "id": "d954492d",
   "metadata": {},
   "outputs": [],
   "source": [
    "# Load the shapefile\n",
    "gdf = gpd.read_file('Grid_0_150.shp')\n",
    "\n"
   ]
  },
  {
   "cell_type": "code",
   "execution_count": 47,
   "id": "845bc7ac",
   "metadata": {},
   "outputs": [],
   "source": [
    "ft_layer = gpd.read_file('Fuel Layer.shp')"
   ]
  },
  {
   "cell_type": "code",
   "execution_count": 48,
   "id": "b61a512e",
   "metadata": {},
   "outputs": [],
   "source": [
    "# Define the coordinate reference systems\n",
    "crs_epsg_3857 = CRS(\"EPSG:3857\")\n",
    "crs_epsg_4326 = CRS(\"EPSG:4326\")\n",
    "\n",
    "# Create a transformer object for EPSG:3857 to EPSG:4326\n",
    "transformer = Transformer.from_crs(crs_epsg_3857, crs_epsg_4326, always_xy=True)"
   ]
  },
  {
   "cell_type": "code",
   "execution_count": 49,
   "id": "47f9ff0c",
   "metadata": {},
   "outputs": [],
   "source": [
    "# Extract coordinates\n",
    "gdf['x'] = gdf.geometry.x\n",
    "gdf['y'] = gdf.geometry.y\n",
    "\n",
    "gdf['lon'], gdf['lat'] = transformer.transform(gdf['x'].values, gdf['y'].values)\n",
    "\n",
    "coords = gdf[['lon', 'lat']]\n",
    "time_index = u_wind['time'].to_index()\n",
    "\n",
    "start_date = pd.to_datetime(time_index[0])\n",
    "end_date = start_date + pd.Timedelta(days=18)\n",
    "limited_time_index = time_index[(time_index >= start_date) & (time_index < end_date)]"
   ]
  },
  {
   "cell_type": "code",
   "execution_count": 50,
   "id": "b4f29fc6",
   "metadata": {},
   "outputs": [
    {
     "data": {
      "text/plain": [
       "DatetimeIndex(['2019-10-26 00:00:00', '2019-10-26 01:00:00',\n",
       "               '2019-10-26 02:00:00', '2019-10-26 03:00:00',\n",
       "               '2019-10-26 04:00:00', '2019-10-26 05:00:00',\n",
       "               '2019-10-26 06:00:00', '2019-10-26 07:00:00',\n",
       "               '2019-10-26 08:00:00', '2019-10-26 09:00:00',\n",
       "               ...\n",
       "               '2019-11-09 14:00:00', '2019-11-09 15:00:00',\n",
       "               '2019-11-09 16:00:00', '2019-11-09 17:00:00',\n",
       "               '2019-11-09 18:00:00', '2019-11-09 19:00:00',\n",
       "               '2019-11-09 20:00:00', '2019-11-09 21:00:00',\n",
       "               '2019-11-09 22:00:00', '2019-11-09 23:00:00'],\n",
       "              dtype='datetime64[ns]', name='time', length=360, freq=None)"
      ]
     },
     "execution_count": 50,
     "metadata": {},
     "output_type": "execute_result"
    }
   ],
   "source": [
    "limited_time_index"
   ]
  },
  {
   "cell_type": "code",
   "execution_count": 51,
   "id": "0b8adf3b",
   "metadata": {},
   "outputs": [],
   "source": [
    "# Create the DataArray and Dataset with the limited time index\n",
    "data = xr.DataArray(\n",
    "    np.zeros((len(limited_time_index), len(gdf))),\n",
    "    dims=['time', 'points'],\n",
    "    coords={'time': limited_time_index, 'points': np.arange(len(gdf))}\n",
    ")\n",
    "\n",
    "ds = xr.Dataset(\n",
    "    {\n",
    "        'data': data\n",
    "    },\n",
    "    coords={\n",
    "        'time': limited_time_index,\n",
    "        'points': np.arange(len(gdf)),\n",
    "        'x': ('points', gdf['lon']),\n",
    "        'y': ('points', gdf['lat']), \n",
    "        'Is Fire': ('points', gdf['Is Fire']),\n",
    "        'Aspect': ('points', gdf['Aspect1']),\n",
    "        'Slope': ('points', gdf['Slope1']),\n",
    "        'Fuel Type': ('points', ft_layer['Fuel Type1']),\n",
    "        'TSF': ('points', gdf['Label'])\n",
    "    }\n",
    ")\n",
    "\n",
    "subset_ds = ds\n",
    "\n",
    "# Convert to DataFrame and reset index\n",
    "df = subset_ds.to_dataframe().reset_index()\n",
    "\n",
    "# Format the 'time' column\n",
    "df['time'] = df['time'].dt.strftime('%Y-%m-%dT%H:%M:%S.000000000')\n",
    "\n",
    "\n"
   ]
  },
  {
   "cell_type": "code",
   "execution_count": 52,
   "id": "72d98a23",
   "metadata": {},
   "outputs": [],
   "source": [
    "df['Is Fire'] = df['Is Fire'].fillna(0)\n"
   ]
  },
  {
   "cell_type": "code",
   "execution_count": null,
   "id": "fbae690e",
   "metadata": {},
   "outputs": [],
   "source": []
  },
  {
   "cell_type": "code",
   "execution_count": null,
   "id": "c9692a3d",
   "metadata": {},
   "outputs": [],
   "source": []
  },
  {
   "cell_type": "code",
   "execution_count": 53,
   "id": "ac35837c",
   "metadata": {},
   "outputs": [],
   "source": [
    "df['TSF'] = df['TSF'].apply(lambda x: '>10' if x == '2015-2016 Prescribed Burn' else '<10')\n"
   ]
  },
  {
   "cell_type": "code",
   "execution_count": 54,
   "id": "82e3ac48",
   "metadata": {},
   "outputs": [
    {
     "name": "stdout",
     "output_type": "stream",
     "text": [
      "done\n",
      "done\n",
      "done\n",
      "done\n",
      "done\n"
     ]
    }
   ],
   "source": [
    "# Function to get the wind speed for a given time and location\n",
    "def get_weather_at_location_and_time(var, time, lon, lat):\n",
    "    # Select the wind speed value for the given time, longitude, and latitude\n",
    "    #print(\"time\", time)\n",
    "    return var.sel(time=time, lon=lon, lat=lat, method='nearest').item()\n",
    "\n",
    "\n",
    "\n",
    "df['wspd'] = df.apply(lambda row: get_weather_at_location_and_time(wind_speed, row['time'], row['x'], row['y']), axis=1)\n",
    "print(\"done\")\n",
    "df['wind_direction_deg'] = df.apply(lambda row: get_weather_at_location_and_time(wind_direction_deg, row['time'], row['x'], row['y']), axis=1)\n",
    "print(\"done\")\n",
    "df['rh'] = df.apply(lambda row: get_weather_at_location_and_time(rh['hurs'], row['time'], row['x'], row['y']), axis=1)\n",
    "print(\"done\")\n",
    "\n",
    "df['sm'] = df.apply(lambda row: get_weather_at_location_and_time(sm['mrsos'], row['time'], row['x'], row['y']), axis=1)\n",
    "print(\"done\")\n",
    "\n",
    "df['st'] = df.apply(lambda row: get_weather_at_location_and_time(st['tas'], row['time'], row['x'], row['y']), axis=1)\n",
    "print(\"done\")\n"
   ]
  },
  {
   "cell_type": "code",
   "execution_count": 55,
   "id": "3a48c498",
   "metadata": {},
   "outputs": [],
   "source": [
    "gdf1 = gpd.read_file('Grid_1_150.shp')\n",
    "gdf2 = gpd.read_file('Grid_2 150.shp')\n",
    "gdf3 = gpd.read_file('Grid_3_150.shp')\n",
    "gdf4 = gpd.read_file('Grid_4_150.shp')\n",
    "gdf5 = gpd.read_file('Grid_5_150.shp')\n",
    "gdf6 = gpd.read_file('Grid_6_150.shp')\n",
    "gdf7 = gpd.read_file('Grid_7_150.shp')\n",
    "gdf8 = gpd.read_file('Grid_8_150.shp')\n",
    "gdf9 = gpd.read_file('Grid_9_150.shp')\n",
    "\n"
   ]
  },
  {
   "cell_type": "code",
   "execution_count": 56,
   "id": "2748b91d",
   "metadata": {},
   "outputs": [
    {
     "data": {
      "text/plain": [
       "Timestamp('2019-10-26 06:00:00')"
      ]
     },
     "execution_count": 56,
     "metadata": {},
     "output_type": "execute_result"
    }
   ],
   "source": [
    "#Timestep 0\n",
    "\n",
    "target_time = pd.to_datetime('2019-10-26 05:51:24')  # Replace with your target time\n",
    "\n",
    "df['time'] = pd.to_datetime(df['time'])\n",
    "\n",
    "# Step 2: Find closest timestep in df to target_time\n",
    "closest_timestep = df.loc[df['time'].sub(target_time).abs().idxmin(), 'time']\n",
    "\n",
    "# Step 3: Replace target_time with closest_timestep in the DataFrame\n",
    "df.loc[df['time'] == target_time, 'time'] = closest_timestep\n",
    "\n",
    "closest_timestep\n"
   ]
  },
  {
   "cell_type": "code",
   "execution_count": 57,
   "id": "59f16c02",
   "metadata": {},
   "outputs": [],
   "source": [
    "threshold_time = closest_timestep\n",
    "\n",
    "# Filter rows where 'time' is greater than or equal to threshold_time\n",
    "df = df[df['time'] >= threshold_time]"
   ]
  },
  {
   "cell_type": "code",
   "execution_count": 58,
   "id": "14d1f2e6",
   "metadata": {},
   "outputs": [
    {
     "name": "stdout",
     "output_type": "stream",
     "text": [
      "2019-10-28 13:00:00\n"
     ]
    }
   ],
   "source": [
    "#Timestep 1\n",
    "\n",
    "target_time = pd.to_datetime('2019-10-28 13:00:00')  # Replace with your target time\n",
    "\n",
    "df['time'] = pd.to_datetime(df['time'])\n",
    "\n",
    "# Step 2: Find closest timestep in df to target_time\n",
    "closest_timestep = df.loc[df['time'].sub(target_time).abs().idxmin(), 'time']\n",
    "\n",
    "# Step 3: Replace target_time with closest_timestep in the DataFrame\n",
    "df.loc[df['time'] == target_time, 'time'] = closest_timestep\n",
    "\n",
    "df.loc[df['time'] == closest_timestep, 'Is Fire'] = gdf1['Is Fire'].values\n",
    "\n",
    "\n",
    "print(closest_timestep)"
   ]
  },
  {
   "cell_type": "code",
   "execution_count": 59,
   "id": "54c19ec8",
   "metadata": {},
   "outputs": [
    {
     "name": "stdout",
     "output_type": "stream",
     "text": [
      "2019-11-01 13:00:00\n"
     ]
    }
   ],
   "source": [
    "#Timestep 2\n",
    "\n",
    "target_time = pd.to_datetime('2019-11-01 13:00:00')  # Replace with your target time\n",
    "\n",
    "df['time'] = pd.to_datetime(df['time'])\n",
    "\n",
    "# Step 2: Find closest timestep in df to target_time\n",
    "closest_timestep = df.loc[df['time'].sub(target_time).abs().idxmin(), 'time']\n",
    "\n",
    "# Step 3: Replace target_time with closest_timestep in the DataFrame\n",
    "df.loc[df['time'] == target_time, 'time'] = closest_timestep\n",
    "\n",
    "df.loc[df['time'] == closest_timestep, 'Is Fire'] = gdf2['Is Fire'].values\n",
    "\n",
    "\n",
    "print(closest_timestep)"
   ]
  },
  {
   "cell_type": "code",
   "execution_count": 60,
   "id": "84940c79",
   "metadata": {},
   "outputs": [
    {
     "name": "stdout",
     "output_type": "stream",
     "text": [
      "2019-11-02 07:00:00\n"
     ]
    }
   ],
   "source": [
    "#Timestep 3\n",
    "\n",
    "target_time = pd.to_datetime('2019-11-02 07:00:00')  # Replace with your target time\n",
    "\n",
    "df['time'] = pd.to_datetime(df['time'])\n",
    "\n",
    "# Step 2: Find closest timestep in df to target_time\n",
    "closest_timestep = df.loc[df['time'].sub(target_time).abs().idxmin(), 'time']\n",
    "\n",
    "# Step 3: Replace target_time with closest_timestep in the DataFrame\n",
    "df.loc[df['time'] == target_time, 'time'] = closest_timestep\n",
    "\n",
    "df.loc[df['time'] == closest_timestep, 'Is Fire'] = gdf3['Is Fire'].values\n",
    "\n",
    "\n",
    "print(closest_timestep)"
   ]
  },
  {
   "cell_type": "code",
   "execution_count": 61,
   "id": "4a2f3c3a",
   "metadata": {},
   "outputs": [
    {
     "name": "stdout",
     "output_type": "stream",
     "text": [
      "2019-11-04 04:00:00\n"
     ]
    }
   ],
   "source": [
    "#Timestep 4\n",
    "\n",
    "target_time = pd.to_datetime('2019-11-04 04:00:00')  # Replace with your target time\n",
    "\n",
    "df['time'] = pd.to_datetime(df['time'])\n",
    "\n",
    "# Step 2: Find closest timestep in df to target_time\n",
    "closest_timestep = df.loc[df['time'].sub(target_time).abs().idxmin(), 'time']\n",
    "\n",
    "# Step 3: Replace target_time with closest_timestep in the DataFrame\n",
    "df.loc[df['time'] == target_time, 'time'] = closest_timestep\n",
    "\n",
    "df.loc[df['time'] == closest_timestep, 'Is Fire'] = gdf4['Is Fire'].values\n",
    "\n",
    "\n",
    "print(closest_timestep)"
   ]
  },
  {
   "cell_type": "code",
   "execution_count": 62,
   "id": "693e8617",
   "metadata": {},
   "outputs": [
    {
     "name": "stdout",
     "output_type": "stream",
     "text": [
      "2019-11-06 20:00:00\n"
     ]
    }
   ],
   "source": [
    "#Timestep 5\n",
    "\n",
    "target_time = pd.to_datetime('2019-11-06 20:00:00')  # Replace with your target time\n",
    "\n",
    "df['time'] = pd.to_datetime(df['time'])\n",
    "\n",
    "# Step 2: Find closest timestep in df to target_time\n",
    "closest_timestep = df.loc[df['time'].sub(target_time).abs().idxmin(), 'time']\n",
    "\n",
    "# Step 3: Replace target_time with closest_timestep in the DataFrame\n",
    "df.loc[df['time'] == target_time, 'time'] = closest_timestep\n",
    "\n",
    "df.loc[df['time'] == closest_timestep, 'Is Fire'] = gdf5['Is Fire'].values\n",
    "\n",
    "\n",
    "print(closest_timestep)"
   ]
  },
  {
   "cell_type": "code",
   "execution_count": 63,
   "id": "53c7c88f",
   "metadata": {},
   "outputs": [
    {
     "name": "stdout",
     "output_type": "stream",
     "text": [
      "2019-11-07 03:00:00\n"
     ]
    }
   ],
   "source": [
    "#Timestep 6\n",
    "\n",
    "target_time = pd.to_datetime('2019-11-07 03:30:00')  # Replace with your target time\n",
    "\n",
    "df['time'] = pd.to_datetime(df['time'])\n",
    "\n",
    "# Step 2: Find closest timestep in df to target_time\n",
    "closest_timestep = df.loc[df['time'].sub(target_time).abs().idxmin(), 'time']\n",
    "\n",
    "# Step 3: Replace target_time with closest_timestep in the DataFrame\n",
    "df.loc[df['time'] == target_time, 'time'] = closest_timestep\n",
    "\n",
    "df.loc[df['time'] == closest_timestep, 'Is Fire'] = gdf6['Is Fire'].values\n",
    "\n",
    "\n",
    "print(closest_timestep)"
   ]
  },
  {
   "cell_type": "code",
   "execution_count": 64,
   "id": "a582e185",
   "metadata": {},
   "outputs": [
    {
     "name": "stdout",
     "output_type": "stream",
     "text": [
      "2019-11-07 21:00:00\n"
     ]
    }
   ],
   "source": [
    "#Timestep 7\n",
    "\n",
    "target_time = pd.to_datetime('2019-11-07 21:00:00')  # Replace with your target time\n",
    "\n",
    "df['time'] = pd.to_datetime(df['time'])\n",
    "\n",
    "# Step 2: Find closest timestep in df to target_time\n",
    "closest_timestep = df.loc[df['time'].sub(target_time).abs().idxmin(), 'time']\n",
    "\n",
    "# Step 3: Replace target_time with closest_timestep in the DataFrame\n",
    "df.loc[df['time'] == target_time, 'time'] = closest_timestep\n",
    "\n",
    "df.loc[df['time'] == closest_timestep, 'Is Fire'] = gdf7['Is Fire'].values\n",
    "\n",
    "\n",
    "print(closest_timestep)"
   ]
  },
  {
   "cell_type": "code",
   "execution_count": 65,
   "id": "ea01a026",
   "metadata": {},
   "outputs": [
    {
     "name": "stdout",
     "output_type": "stream",
     "text": [
      "2019-11-08 02:00:00\n"
     ]
    }
   ],
   "source": [
    "#Timestep 8\n",
    "\n",
    "target_time = pd.to_datetime('2019-11-08 02:00:00')  # Replace with your target time\n",
    "\n",
    "df['time'] = pd.to_datetime(df['time'])\n",
    "\n",
    "# Step 2: Find closest timestep in df to target_time\n",
    "closest_timestep = df.loc[df['time'].sub(target_time).abs().idxmin(), 'time']\n",
    "\n",
    "# Step 3: Replace target_time with closest_timestep in the DataFrame\n",
    "df.loc[df['time'] == target_time, 'time'] = closest_timestep\n",
    "\n",
    "df.loc[df['time'] == closest_timestep, 'Is Fire'] = gdf8['Is Fire'].values\n",
    "\n",
    "\n",
    "print(closest_timestep)"
   ]
  },
  {
   "cell_type": "code",
   "execution_count": 66,
   "id": "1e7e8583",
   "metadata": {},
   "outputs": [
    {
     "name": "stdout",
     "output_type": "stream",
     "text": [
      "2019-11-08 15:00:00\n"
     ]
    }
   ],
   "source": [
    "#Timestep 9\n",
    "\n",
    "target_time = pd.to_datetime('2019-11-08 15:00:00')  # Replace with your target time\n",
    "\n",
    "df['time'] = pd.to_datetime(df['time'])\n",
    "\n",
    "# Step 2: Find closest timestep in df to target_time\n",
    "closest_timestep = df.loc[df['time'].sub(target_time).abs().idxmin(), 'time']\n",
    "\n",
    "# Step 3: Replace target_time with closest_timestep in the DataFrame\n",
    "df.loc[df['time'] == target_time, 'time'] = closest_timestep\n",
    "\n",
    "df.loc[df['time'] == closest_timestep, 'Is Fire'] = gdf9['Is Fire'].values\n",
    "\n",
    "\n",
    "print(closest_timestep)"
   ]
  },
  {
   "cell_type": "code",
   "execution_count": 67,
   "id": "d080eb6e",
   "metadata": {},
   "outputs": [
    {
     "data": {
      "text/plain": [
       "\"\\ntarget_timesteps = ('2019-10-26 06:00:00','2019-10-28 13:00:00', '2019-11-01 13:00:00','2019-11-02 07:00:00',\\n                   '2019-11-04 04:00:00','2019-11-06 20:00:00', '2019-11-07 03:30:00', \\n                   '2019-11-07 21:00:00','2019-11-08 02:00:00', '2019-11-08 15:00:00')\\n                   \\n\""
      ]
     },
     "execution_count": 67,
     "metadata": {},
     "output_type": "execute_result"
    }
   ],
   "source": [
    "'''\n",
    "target_timesteps = ('2019-10-26 06:00:00','2019-10-28 13:00:00', '2019-11-01 13:00:00','2019-11-02 07:00:00',\n",
    "                   '2019-11-04 04:00:00','2019-11-06 20:00:00', '2019-11-07 03:30:00', \n",
    "                   '2019-11-07 21:00:00','2019-11-08 02:00:00', '2019-11-08 15:00:00')\n",
    "                   \n",
    "'''"
   ]
  },
  {
   "cell_type": "code",
   "execution_count": 68,
   "id": "3c9ca366",
   "metadata": {},
   "outputs": [],
   "source": [
    "#df = df[df['time'].isin(target_timesteps)]\n"
   ]
  },
  {
   "cell_type": "code",
   "execution_count": 69,
   "id": "03ba3fe8",
   "metadata": {},
   "outputs": [
    {
     "data": {
      "text/plain": [
       "<DatetimeArray>\n",
       "['2019-10-26 06:00:00', '2019-10-26 07:00:00', '2019-10-26 08:00:00',\n",
       " '2019-10-26 09:00:00', '2019-10-26 10:00:00', '2019-10-26 11:00:00',\n",
       " '2019-10-26 12:00:00', '2019-10-26 13:00:00', '2019-10-26 14:00:00',\n",
       " '2019-10-26 15:00:00',\n",
       " ...\n",
       " '2019-11-09 14:00:00', '2019-11-09 15:00:00', '2019-11-09 16:00:00',\n",
       " '2019-11-09 17:00:00', '2019-11-09 18:00:00', '2019-11-09 19:00:00',\n",
       " '2019-11-09 20:00:00', '2019-11-09 21:00:00', '2019-11-09 22:00:00',\n",
       " '2019-11-09 23:00:00']\n",
       "Length: 354, dtype: datetime64[ns]"
      ]
     },
     "execution_count": 69,
     "metadata": {},
     "output_type": "execute_result"
    }
   ],
   "source": [
    "df['time'].unique()"
   ]
  },
  {
   "cell_type": "code",
   "execution_count": null,
   "id": "d70fcd26",
   "metadata": {},
   "outputs": [],
   "source": []
  },
  {
   "cell_type": "code",
   "execution_count": 70,
   "id": "000a05ff",
   "metadata": {},
   "outputs": [],
   "source": [
    "# Step 1: Convert 'time' column to datetime format if it's not already\n",
    "df['time'] = pd.to_datetime(df['time'])\n",
    "\n",
    "# Step 2: Convert 'time' column to desired string format\n",
    "df['time'] = df['time'].dt.strftime('%Y-%m-%d %H:%M:%S')"
   ]
  },
  {
   "cell_type": "code",
   "execution_count": 71,
   "id": "63a28ec3",
   "metadata": {},
   "outputs": [
    {
     "data": {
      "text/html": [
       "<div>\n",
       "<style scoped>\n",
       "    .dataframe tbody tr th:only-of-type {\n",
       "        vertical-align: middle;\n",
       "    }\n",
       "\n",
       "    .dataframe tbody tr th {\n",
       "        vertical-align: top;\n",
       "    }\n",
       "\n",
       "    .dataframe thead th {\n",
       "        text-align: right;\n",
       "    }\n",
       "</style>\n",
       "<table border=\"1\" class=\"dataframe\">\n",
       "  <thead>\n",
       "    <tr style=\"text-align: right;\">\n",
       "      <th></th>\n",
       "      <th>time</th>\n",
       "      <th>points</th>\n",
       "      <th>data</th>\n",
       "      <th>x</th>\n",
       "      <th>y</th>\n",
       "      <th>Is Fire</th>\n",
       "      <th>Aspect</th>\n",
       "      <th>Slope</th>\n",
       "      <th>Fuel Type</th>\n",
       "      <th>TSF</th>\n",
       "      <th>wspd</th>\n",
       "      <th>wind_direction_deg</th>\n",
       "      <th>rh</th>\n",
       "      <th>sm</th>\n",
       "      <th>st</th>\n",
       "    </tr>\n",
       "  </thead>\n",
       "  <tbody>\n",
       "    <tr>\n",
       "      <th>12246</th>\n",
       "      <td>2019-10-26 06:00:00</td>\n",
       "      <td>0</td>\n",
       "      <td>0.0</td>\n",
       "      <td>152.757759</td>\n",
       "      <td>-31.222510</td>\n",
       "      <td>0</td>\n",
       "      <td>294.863708</td>\n",
       "      <td>89.997185</td>\n",
       "      <td>150</td>\n",
       "      <td>&lt;10</td>\n",
       "      <td>3.997191</td>\n",
       "      <td>115.964069</td>\n",
       "      <td>19.588623</td>\n",
       "      <td>18.511719</td>\n",
       "      <td>305.078125</td>\n",
       "    </tr>\n",
       "    <tr>\n",
       "      <th>12247</th>\n",
       "      <td>2019-10-26 06:00:00</td>\n",
       "      <td>1</td>\n",
       "      <td>0.0</td>\n",
       "      <td>152.757759</td>\n",
       "      <td>-31.223663</td>\n",
       "      <td>0</td>\n",
       "      <td>306.634094</td>\n",
       "      <td>89.997383</td>\n",
       "      <td>150</td>\n",
       "      <td>&lt;10</td>\n",
       "      <td>3.997191</td>\n",
       "      <td>115.964069</td>\n",
       "      <td>19.588623</td>\n",
       "      <td>18.511719</td>\n",
       "      <td>305.078125</td>\n",
       "    </tr>\n",
       "    <tr>\n",
       "      <th>12248</th>\n",
       "      <td>2019-10-26 06:00:00</td>\n",
       "      <td>2</td>\n",
       "      <td>0.0</td>\n",
       "      <td>152.757759</td>\n",
       "      <td>-31.224815</td>\n",
       "      <td>0</td>\n",
       "      <td>257.905243</td>\n",
       "      <td>89.995552</td>\n",
       "      <td>150</td>\n",
       "      <td>&lt;10</td>\n",
       "      <td>3.997191</td>\n",
       "      <td>115.964069</td>\n",
       "      <td>19.588623</td>\n",
       "      <td>18.511719</td>\n",
       "      <td>305.078125</td>\n",
       "    </tr>\n",
       "    <tr>\n",
       "      <th>12249</th>\n",
       "      <td>2019-10-26 06:00:00</td>\n",
       "      <td>3</td>\n",
       "      <td>0.0</td>\n",
       "      <td>152.757759</td>\n",
       "      <td>-31.225967</td>\n",
       "      <td>0</td>\n",
       "      <td>293.198608</td>\n",
       "      <td>89.991638</td>\n",
       "      <td>150</td>\n",
       "      <td>&lt;10</td>\n",
       "      <td>3.997191</td>\n",
       "      <td>115.964069</td>\n",
       "      <td>19.588623</td>\n",
       "      <td>18.511719</td>\n",
       "      <td>305.078125</td>\n",
       "    </tr>\n",
       "    <tr>\n",
       "      <th>12250</th>\n",
       "      <td>2019-10-26 06:00:00</td>\n",
       "      <td>4</td>\n",
       "      <td>0.0</td>\n",
       "      <td>152.757759</td>\n",
       "      <td>-31.227120</td>\n",
       "      <td>0</td>\n",
       "      <td>254.054611</td>\n",
       "      <td>89.991257</td>\n",
       "      <td>150</td>\n",
       "      <td>&lt;10</td>\n",
       "      <td>3.997191</td>\n",
       "      <td>115.964069</td>\n",
       "      <td>19.588623</td>\n",
       "      <td>18.511719</td>\n",
       "      <td>305.078125</td>\n",
       "    </tr>\n",
       "    <tr>\n",
       "      <th>...</th>\n",
       "      <td>...</td>\n",
       "      <td>...</td>\n",
       "      <td>...</td>\n",
       "      <td>...</td>\n",
       "      <td>...</td>\n",
       "      <td>...</td>\n",
       "      <td>...</td>\n",
       "      <td>...</td>\n",
       "      <td>...</td>\n",
       "      <td>...</td>\n",
       "      <td>...</td>\n",
       "      <td>...</td>\n",
       "      <td>...</td>\n",
       "      <td>...</td>\n",
       "      <td>...</td>\n",
       "    </tr>\n",
       "    <tr>\n",
       "      <th>734755</th>\n",
       "      <td>2019-11-09 23:00:00</td>\n",
       "      <td>2036</td>\n",
       "      <td>0.0</td>\n",
       "      <td>152.822438</td>\n",
       "      <td>-31.260529</td>\n",
       "      <td>0</td>\n",
       "      <td>45.000000</td>\n",
       "      <td>89.996536</td>\n",
       "      <td>150</td>\n",
       "      <td>&lt;10</td>\n",
       "      <td>4.239993</td>\n",
       "      <td>57.949854</td>\n",
       "      <td>27.415955</td>\n",
       "      <td>26.722656</td>\n",
       "      <td>294.281250</td>\n",
       "    </tr>\n",
       "    <tr>\n",
       "      <th>734756</th>\n",
       "      <td>2019-11-09 23:00:00</td>\n",
       "      <td>2037</td>\n",
       "      <td>0.0</td>\n",
       "      <td>152.822438</td>\n",
       "      <td>-31.261681</td>\n",
       "      <td>0</td>\n",
       "      <td>45.000000</td>\n",
       "      <td>89.997093</td>\n",
       "      <td>150</td>\n",
       "      <td>&lt;10</td>\n",
       "      <td>4.239993</td>\n",
       "      <td>57.949854</td>\n",
       "      <td>27.415955</td>\n",
       "      <td>26.722656</td>\n",
       "      <td>294.281250</td>\n",
       "    </tr>\n",
       "    <tr>\n",
       "      <th>734757</th>\n",
       "      <td>2019-11-09 23:00:00</td>\n",
       "      <td>2038</td>\n",
       "      <td>0.0</td>\n",
       "      <td>152.822438</td>\n",
       "      <td>-31.262833</td>\n",
       "      <td>0</td>\n",
       "      <td>92.642548</td>\n",
       "      <td>89.998047</td>\n",
       "      <td>150</td>\n",
       "      <td>&lt;10</td>\n",
       "      <td>4.239993</td>\n",
       "      <td>57.949854</td>\n",
       "      <td>27.415955</td>\n",
       "      <td>26.722656</td>\n",
       "      <td>294.281250</td>\n",
       "    </tr>\n",
       "    <tr>\n",
       "      <th>734758</th>\n",
       "      <td>2019-11-09 23:00:00</td>\n",
       "      <td>2039</td>\n",
       "      <td>0.0</td>\n",
       "      <td>152.822438</td>\n",
       "      <td>-31.263984</td>\n",
       "      <td>0</td>\n",
       "      <td>108.434952</td>\n",
       "      <td>89.998512</td>\n",
       "      <td>150</td>\n",
       "      <td>&lt;10</td>\n",
       "      <td>4.239993</td>\n",
       "      <td>57.949854</td>\n",
       "      <td>27.415955</td>\n",
       "      <td>26.722656</td>\n",
       "      <td>294.281250</td>\n",
       "    </tr>\n",
       "    <tr>\n",
       "      <th>734759</th>\n",
       "      <td>2019-11-09 23:00:00</td>\n",
       "      <td>2040</td>\n",
       "      <td>0.0</td>\n",
       "      <td>152.822438</td>\n",
       "      <td>-31.265136</td>\n",
       "      <td>0</td>\n",
       "      <td>75.547569</td>\n",
       "      <td>89.998726</td>\n",
       "      <td>150</td>\n",
       "      <td>&lt;10</td>\n",
       "      <td>4.239993</td>\n",
       "      <td>57.949854</td>\n",
       "      <td>27.415955</td>\n",
       "      <td>26.722656</td>\n",
       "      <td>294.281250</td>\n",
       "    </tr>\n",
       "  </tbody>\n",
       "</table>\n",
       "<p>722514 rows × 15 columns</p>\n",
       "</div>"
      ],
      "text/plain": [
       "                       time  points  data           x          y  Is Fire  \\\n",
       "12246   2019-10-26 06:00:00       0   0.0  152.757759 -31.222510        0   \n",
       "12247   2019-10-26 06:00:00       1   0.0  152.757759 -31.223663        0   \n",
       "12248   2019-10-26 06:00:00       2   0.0  152.757759 -31.224815        0   \n",
       "12249   2019-10-26 06:00:00       3   0.0  152.757759 -31.225967        0   \n",
       "12250   2019-10-26 06:00:00       4   0.0  152.757759 -31.227120        0   \n",
       "...                     ...     ...   ...         ...        ...      ...   \n",
       "734755  2019-11-09 23:00:00    2036   0.0  152.822438 -31.260529        0   \n",
       "734756  2019-11-09 23:00:00    2037   0.0  152.822438 -31.261681        0   \n",
       "734757  2019-11-09 23:00:00    2038   0.0  152.822438 -31.262833        0   \n",
       "734758  2019-11-09 23:00:00    2039   0.0  152.822438 -31.263984        0   \n",
       "734759  2019-11-09 23:00:00    2040   0.0  152.822438 -31.265136        0   \n",
       "\n",
       "            Aspect      Slope  Fuel Type  TSF      wspd  wind_direction_deg  \\\n",
       "12246   294.863708  89.997185        150  <10  3.997191          115.964069   \n",
       "12247   306.634094  89.997383        150  <10  3.997191          115.964069   \n",
       "12248   257.905243  89.995552        150  <10  3.997191          115.964069   \n",
       "12249   293.198608  89.991638        150  <10  3.997191          115.964069   \n",
       "12250   254.054611  89.991257        150  <10  3.997191          115.964069   \n",
       "...            ...        ...        ...  ...       ...                 ...   \n",
       "734755   45.000000  89.996536        150  <10  4.239993           57.949854   \n",
       "734756   45.000000  89.997093        150  <10  4.239993           57.949854   \n",
       "734757   92.642548  89.998047        150  <10  4.239993           57.949854   \n",
       "734758  108.434952  89.998512        150  <10  4.239993           57.949854   \n",
       "734759   75.547569  89.998726        150  <10  4.239993           57.949854   \n",
       "\n",
       "               rh         sm          st  \n",
       "12246   19.588623  18.511719  305.078125  \n",
       "12247   19.588623  18.511719  305.078125  \n",
       "12248   19.588623  18.511719  305.078125  \n",
       "12249   19.588623  18.511719  305.078125  \n",
       "12250   19.588623  18.511719  305.078125  \n",
       "...           ...        ...         ...  \n",
       "734755  27.415955  26.722656  294.281250  \n",
       "734756  27.415955  26.722656  294.281250  \n",
       "734757  27.415955  26.722656  294.281250  \n",
       "734758  27.415955  26.722656  294.281250  \n",
       "734759  27.415955  26.722656  294.281250  \n",
       "\n",
       "[722514 rows x 15 columns]"
      ]
     },
     "execution_count": 71,
     "metadata": {},
     "output_type": "execute_result"
    }
   ],
   "source": [
    "df"
   ]
  },
  {
   "cell_type": "code",
   "execution_count": 72,
   "id": "1613e57e",
   "metadata": {},
   "outputs": [],
   "source": [
    "df.to_csv(\"Port_Fire_full.csv\", index=False)  # Set index=False to exclude row numbers\n"
   ]
  },
  {
   "cell_type": "code",
   "execution_count": 73,
   "id": "8876c772",
   "metadata": {},
   "outputs": [
    {
     "name": "stdout",
     "output_type": "stream",
     "text": [
      "all good!\n"
     ]
    }
   ],
   "source": [
    "print(\"all good!\")"
   ]
  }
 ],
 "metadata": {
  "kernelspec": {
   "display_name": "Python 3 (ipykernel)",
   "language": "python",
   "name": "python3"
  },
  "language_info": {
   "codemirror_mode": {
    "name": "ipython",
    "version": 3
   },
   "file_extension": ".py",
   "mimetype": "text/x-python",
   "name": "python",
   "nbconvert_exporter": "python",
   "pygments_lexer": "ipython3",
   "version": "3.10.13"
  }
 },
 "nbformat": 4,
 "nbformat_minor": 5
}
